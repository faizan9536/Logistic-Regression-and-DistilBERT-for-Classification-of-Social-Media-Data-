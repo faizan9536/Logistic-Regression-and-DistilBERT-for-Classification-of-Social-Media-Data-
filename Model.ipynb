{
  "nbformat": 4,
  "nbformat_minor": 0,
  "metadata": {
    "colab": {
      "provenance": [],
      "gpuType": "T4"
    },
    "kernelspec": {
      "name": "python3",
      "display_name": "Python 3"
    },
    "language_info": {
      "name": "python"
    },
    "accelerator": "GPU"
  },
  "cells": [
    {
      "cell_type": "code",
      "source": [
        "import json\n",
        "import pandas as pd\n",
        "import torch\n",
        "import numpy as np\n",
        "from sklearn.model_selection import train_test_split\n",
        "from sklearn.feature_extraction.text import TfidfVectorizer\n",
        "from sklearn.linear_model import LogisticRegression\n",
        "from sklearn.metrics import accuracy_score, precision_score, recall_score, f1_score, log_loss\n",
        "from transformers import DistilBertTokenizer, DistilBertForSequenceClassification, Trainer, TrainingArguments, EarlyStoppingCallback\n",
        "from torch.utils.data import Dataset"
      ],
      "metadata": {
        "id": "458tZBgxSVJJ"
      },
      "execution_count": 1,
      "outputs": []
    },
    {
      "cell_type": "code",
      "source": [
        "# Mount Google Drive\n",
        "from google.colab import drive\n",
        "drive.mount('/content/drive')"
      ],
      "metadata": {
        "colab": {
          "base_uri": "https://localhost:8080/"
        },
        "id": "cjxlMIrIS-tW",
        "outputId": "bf1795bd-d046-4b08-ec24-ffbb7b2a597b"
      },
      "execution_count": 2,
      "outputs": [
        {
          "output_type": "stream",
          "name": "stdout",
          "text": [
            "Mounted at /content/drive\n"
          ]
        }
      ]
    },
    {
      "cell_type": "code",
      "source": [
        "# Load and preprocess data\n",
        "file_path = \"/content/drive/MyDrive/Assignment 1/z639_assignment1_training.json\"\n",
        "with open(file_path, 'r') as f:\n",
        "    data = [json.loads(line) for line in f]\n",
        "df = pd.DataFrame(data)\n",
        "df['toxic'] = df['composite_toxic'].apply(lambda annotations: sum(ann[0] for ann in annotations) > len(annotations) / 2)"
      ],
      "metadata": {
        "id": "mlUEIIAqTMfB"
      },
      "execution_count": 3,
      "outputs": []
    },
    {
      "cell_type": "code",
      "source": [
        "# Stratified split (shared by both models)\n",
        "train_df, val_df = train_test_split(df, test_size=0.2, stratify=df['toxic'], random_state=42)"
      ],
      "metadata": {
        "id": "V8c3rstXTMc5"
      },
      "execution_count": 4,
      "outputs": []
    },
    {
      "cell_type": "code",
      "source": [
        "# ====================== Logistic Regression Model ======================\n",
        "# TF-IDF Vectorization\n",
        "vectorizer = TfidfVectorizer(\n",
        "    max_features=20000,\n",
        "    stop_words=\"english\",\n",
        "    ngram_range=(1,3),\n",
        "    sublinear_tf=True,\n",
        "    min_df=3,\n",
        "    max_df=0.9\n",
        ")\n",
        "X_train = vectorizer.fit_transform(train_df['text'])\n",
        "X_val = vectorizer.transform(val_df['text'])\n",
        "\n",
        "# Model training\n",
        "log_reg = LogisticRegression(\n",
        "    max_iter=1000,\n",
        "    C=0.0001,\n",
        "    solver=\"saga\",\n",
        "    class_weight=\"balanced\",\n",
        "    penalty=\"l2\"\n",
        ")\n",
        "log_reg.fit(X_train, train_df['toxic'])\n",
        "\n",
        "# ======== Metrics Calculation ========\n",
        "# Training set predictions\n",
        "train_preds = log_reg.predict(X_train)\n",
        "train_proba = log_reg.predict_proba(X_train)\n",
        "\n",
        "# Validation set predictions\n",
        "val_preds = log_reg.predict(X_val)\n",
        "val_proba = log_reg.predict_proba(X_val)\n",
        "\n",
        "# Calculate metrics\n",
        "metrics = {\n",
        "    \"Training\": {\n",
        "        \"Accuracy\": accuracy_score(train_df['toxic'], train_preds),\n",
        "        \"Precision\": precision_score(train_df['toxic'], train_preds, zero_division=0),\n",
        "        \"Recall\": recall_score(train_df['toxic'], train_preds, zero_division=0),\n",
        "        \"F1\": f1_score(train_df['toxic'], train_preds, zero_division=0),\n",
        "        \"Log Loss\": log_loss(train_df['toxic'], train_proba)\n",
        "    },\n",
        "    \"Validation\": {\n",
        "        \"Accuracy\": accuracy_score(val_df['toxic'], val_preds),\n",
        "        \"Precision\": precision_score(val_df['toxic'], val_preds, zero_division=0),\n",
        "        \"Recall\": recall_score(val_df['toxic'], val_preds, zero_division=0),\n",
        "        \"F1\": f1_score(val_df['toxic'], val_preds, zero_division=0),\n",
        "        \"Log Loss\": log_loss(val_df['toxic'], val_proba)\n",
        "    }\n",
        "}\n",
        "\n",
        "# ======== Display Results ========\n",
        "results_df = pd.DataFrame(metrics).T.round(4)\n",
        "print(\"\\n📊 Logistic Regression Performance Comparison:\")\n",
        "print(results_df)"
      ],
      "metadata": {
        "colab": {
          "base_uri": "https://localhost:8080/"
        },
        "id": "1hiULpA8TMRq",
        "outputId": "bc1ae314-9da9-4792-83a2-e21b9b971dc7"
      },
      "execution_count": 13,
      "outputs": [
        {
          "output_type": "stream",
          "name": "stdout",
          "text": [
            "\n",
            "📊 Logistic Regression Performance Comparison:\n",
            "            Accuracy  Precision  Recall      F1  Log Loss\n",
            "Training      0.8056     0.6095  0.6748  0.6405    0.6931\n",
            "Validation    0.7562     0.5260  0.4927  0.5088    0.6931\n"
          ]
        }
      ]
    },
    {
      "cell_type": "code",
      "source": [
        "# ====================== DistilBERT Model ======================\n",
        "set_seed = lambda seed=42: (torch.manual_seed(seed), torch.cuda.manual_seed_all(seed))\n",
        "set_seed(42)\n",
        "\n",
        "# Convert labels to integers upfront\n",
        "train_df['toxic'] = train_df['toxic'].astype(int)\n",
        "val_df['toxic'] = val_df['toxic'].astype(int)\n",
        "\n",
        "tokenizer = DistilBertTokenizer.from_pretrained('distilbert-base-uncased')\n",
        "model = DistilBertForSequenceClassification.from_pretrained('distilbert-base-uncased', num_labels=2)\n",
        "for module in model.modules():\n",
        "    if isinstance(module, torch.nn.Dropout):\n",
        "        module.p = 0.4\n",
        "\n",
        "class ToxicCommentsDataset(Dataset):\n",
        "    def __init__(self, texts, labels, tokenizer, max_length=128):\n",
        "        self.texts = texts\n",
        "        self.labels = labels\n",
        "        self.tokenizer = tokenizer\n",
        "        self.max_length = max_length\n",
        "\n",
        "    def __len__(self):\n",
        "        return len(self.texts)\n",
        "\n",
        "    def __getitem__(self, idx):\n",
        "        text = self.texts.iloc[idx] if isinstance(self.texts, pd.Series) else self.texts[idx]\n",
        "        encoding = self.tokenizer(\n",
        "            text,\n",
        "            padding=\"max_length\",\n",
        "            truncation=True,\n",
        "            max_length=self.max_length,\n",
        "            return_tensors=\"pt\"\n",
        "        )\n",
        "\n",
        "        # Safely handle label conversion\n",
        "        label = int(self.labels.iloc[idx] if isinstance(self.labels, pd.Series) else self.labels[idx])\n",
        "\n",
        "        return {\n",
        "            'input_ids': encoding['input_ids'].squeeze(0),\n",
        "            'attention_mask': encoding['attention_mask'].squeeze(0),\n",
        "            'labels': torch.tensor(label, dtype=torch.long)\n",
        "        }\n",
        "\n",
        "# Create datasets\n",
        "train_dataset = ToxicCommentsDataset(train_df['text'], train_df['toxic'], tokenizer)\n",
        "val_dataset = ToxicCommentsDataset(val_df['text'], val_df['toxic'], tokenizer)\n",
        "\n",
        "# Training setup with updated parameters\n",
        "training_args = TrainingArguments(\n",
        "    output_dir=\"./results\",\n",
        "    num_train_epochs=3,\n",
        "    per_device_train_batch_size=8,\n",
        "    per_device_eval_batch_size=8,\n",
        "    learning_rate=2e-5,\n",
        "    weight_decay=0.3,\n",
        "    eval_strategy=\"epoch\",  # ✅ Correct parameter name\n",
        "    save_strategy=\"epoch\",\n",
        "    load_best_model_at_end=True,\n",
        "    metric_for_best_model=\"eval_loss\",\n",
        "    greater_is_better=False,\n",
        "    logging_steps=50,\n",
        "    logging_first_step=True,\n",
        "    report_to=\"none\"  # ✅ Disable wandb integration\n",
        ")\n",
        "\n",
        "def compute_metrics(eval_pred):\n",
        "    logits, labels = eval_pred\n",
        "    preds = np.argmax(logits, axis=-1)\n",
        "    return {\n",
        "        \"accuracy\": accuracy_score(labels, preds),\n",
        "        \"precision\": precision_score(labels, preds, average=\"binary\"),\n",
        "        \"recall\": recall_score(labels, preds, average=\"binary\"),\n",
        "        \"f1\": f1_score(labels, preds, average=\"binary\")\n",
        "    }\n",
        "\n",
        "trainer = Trainer(\n",
        "    model=model,\n",
        "    args=training_args,\n",
        "    train_dataset=train_dataset,\n",
        "    eval_dataset=val_dataset,\n",
        "    compute_metrics=compute_metrics,\n",
        "    callbacks=[EarlyStoppingCallback(early_stopping_patience=1)]\n",
        ")\n",
        "\n",
        "# Train and evaluate\n",
        "print(\"Training DistilBERT...\")\n",
        "trainer.train()\n",
        "bert_metrics = trainer.evaluate(val_dataset)\n"
      ],
      "metadata": {
        "colab": {
          "base_uri": "https://localhost:8080/",
          "height": 264
        },
        "id": "SrDw86SQTMUC",
        "outputId": "a9c58d68-3d40-4c56-87dc-e0dd5ac3347e"
      },
      "execution_count": 24,
      "outputs": [
        {
          "output_type": "stream",
          "name": "stderr",
          "text": [
            "Some weights of DistilBertForSequenceClassification were not initialized from the model checkpoint at distilbert-base-uncased and are newly initialized: ['classifier.bias', 'classifier.weight', 'pre_classifier.bias', 'pre_classifier.weight']\n",
            "You should probably TRAIN this model on a down-stream task to be able to use it for predictions and inference.\n"
          ]
        },
        {
          "output_type": "stream",
          "name": "stdout",
          "text": [
            "Training DistilBERT...\n"
          ]
        },
        {
          "output_type": "display_data",
          "data": {
            "text/plain": [
              "<IPython.core.display.HTML object>"
            ],
            "text/html": [
              "\n",
              "    <div>\n",
              "      \n",
              "      <progress value='1200' max='1200' style='width:300px; height:20px; vertical-align: middle;'></progress>\n",
              "      [1200/1200 03:14, Epoch 3/3]\n",
              "    </div>\n",
              "    <table border=\"1\" class=\"dataframe\">\n",
              "  <thead>\n",
              " <tr style=\"text-align: left;\">\n",
              "      <th>Epoch</th>\n",
              "      <th>Training Loss</th>\n",
              "      <th>Validation Loss</th>\n",
              "      <th>Accuracy</th>\n",
              "      <th>Precision</th>\n",
              "      <th>Recall</th>\n",
              "      <th>F1</th>\n",
              "    </tr>\n",
              "  </thead>\n",
              "  <tbody>\n",
              "    <tr>\n",
              "      <td>1</td>\n",
              "      <td>0.496700</td>\n",
              "      <td>0.459849</td>\n",
              "      <td>0.803750</td>\n",
              "      <td>0.744898</td>\n",
              "      <td>0.356098</td>\n",
              "      <td>0.481848</td>\n",
              "    </tr>\n",
              "    <tr>\n",
              "      <td>2</td>\n",
              "      <td>0.454500</td>\n",
              "      <td>0.455830</td>\n",
              "      <td>0.782500</td>\n",
              "      <td>0.563265</td>\n",
              "      <td>0.673171</td>\n",
              "      <td>0.613333</td>\n",
              "    </tr>\n",
              "    <tr>\n",
              "      <td>3</td>\n",
              "      <td>0.426500</td>\n",
              "      <td>0.472410</td>\n",
              "      <td>0.783750</td>\n",
              "      <td>0.572727</td>\n",
              "      <td>0.614634</td>\n",
              "      <td>0.592941</td>\n",
              "    </tr>\n",
              "  </tbody>\n",
              "</table><p>"
            ]
          },
          "metadata": {}
        },
        {
          "output_type": "display_data",
          "data": {
            "text/plain": [
              "<IPython.core.display.HTML object>"
            ],
            "text/html": [
              "\n",
              "    <div>\n",
              "      \n",
              "      <progress value='100' max='100' style='width:300px; height:20px; vertical-align: middle;'></progress>\n",
              "      [100/100 00:03]\n",
              "    </div>\n",
              "    "
            ]
          },
          "metadata": {}
        }
      ]
    },
    {
      "cell_type": "code",
      "source": [
        "# ====================== Results Comparison ======================\n",
        "# Extract validation metrics for Logistic Regression\n",
        "log_reg_val_metrics = metrics[\"Validation\"]\n",
        "\n",
        "# Create a comparison DataFrame\n",
        "results = pd.DataFrame({\n",
        "    \"Model\": [\"DistilBERT\", \"Logistic Regression\"],\n",
        "    \"Accuracy\": [bert_metrics[\"eval_accuracy\"], log_reg_val_metrics[\"Accuracy\"]],\n",
        "    \"Precision\": [bert_metrics[\"eval_precision\"], log_reg_val_metrics[\"Precision\"]],\n",
        "    \"Recall\": [bert_metrics[\"eval_recall\"], log_reg_val_metrics[\"Recall\"]],\n",
        "    \"F1-Score\": [bert_metrics[\"eval_f1\"], log_reg_val_metrics[\"F1\"]]\n",
        "}).round(4)\n",
        "\n",
        "# Display the results\n",
        "print(\"\\n=== Validation Set Performance Comparison ===\")\n",
        "print(results)"
      ],
      "metadata": {
        "colab": {
          "base_uri": "https://localhost:8080/"
        },
        "id": "1eOQ2arnTMO6",
        "outputId": "22c2c679-19a9-4db3-c1ab-4b7445f53bad"
      },
      "execution_count": 25,
      "outputs": [
        {
          "output_type": "stream",
          "name": "stdout",
          "text": [
            "\n",
            "=== Validation Set Performance Comparison ===\n",
            "                 Model  Accuracy  Precision  Recall  F1-Score\n",
            "0           DistilBERT    0.7825     0.5633  0.6732    0.6133\n",
            "1  Logistic Regression    0.7562     0.5260  0.4927    0.5088\n"
          ]
        }
      ]
    },
    {
      "cell_type": "code",
      "source": [
        "import matplotlib.pyplot as plt\n",
        "import seaborn as sns\n",
        "\n",
        "# Set style for better visualization\n",
        "sns.set(style=\"whitegrid\")\n",
        "plt.figure(figsize=(10, 6))  # Adjusted figure size\n",
        "\n",
        "# Melt the results DataFrame for easier plotting\n",
        "results_melted = results.melt(id_vars=\"Model\", var_name=\"Metric\", value_name=\"Score\")\n",
        "\n",
        "# Create the bar plot\n",
        "sns.barplot(x=\"Metric\", y=\"Score\", hue=\"Model\", data=results_melted, palette=\"viridis\")\n",
        "\n",
        "# Add titles and labels\n",
        "plt.title(\"Validation Set Performance: DistilBERT vs Logistic Regression\", fontsize=14, pad=15)  # Adjusted title size\n",
        "plt.xlabel(\"Metric\", fontsize=12)\n",
        "plt.ylabel(\"Score\", fontsize=12)\n",
        "plt.ylim(0, 1)  # Set y-axis limit to 0-1 for better readability\n",
        "plt.legend(title=\"Model\", loc=\"upper right\", fontsize=10)  # Adjusted legend size\n",
        "\n",
        "# Annotate bars only if height > 0\n",
        "for p in plt.gca().patches:\n",
        "    height = p.get_height()\n",
        "    if height > 0:\n",
        "        plt.gca().annotate(\n",
        "            f\"{height:.3f}\",  # Reduced to 3 decimal places for clarity\n",
        "            (p.get_x() + p.get_width() / 2., height),\n",
        "            ha=\"center\",\n",
        "            va=\"bottom\",\n",
        "            fontsize=9,\n",
        "            color=\"black\",\n",
        "            xytext=(0, 4),\n",
        "            textcoords=\"offset points\"\n",
        "        )\n",
        "\n",
        "# Adjust layout for better spacing\n",
        "plt.tight_layout()\n",
        "plt.show()\n"
      ],
      "metadata": {
        "id": "-i6OqKRmTMIs",
        "colab": {
          "base_uri": "https://localhost:8080/",
          "height": 601
        },
        "outputId": "bb9a01df-91e9-43e6-bb12-a181faac7140"
      },
      "execution_count": 27,
      "outputs": [
        {
          "output_type": "display_data",
          "data": {
            "text/plain": [
              "<Figure size 1000x600 with 1 Axes>"
            ],
            "image/png": "[encoded data removed]"
          },
          "metadata": {}
        }
      ]
    },
    {
      "cell_type": "markdown",
      "source": [
        "**Model Predictions**"
      ],
      "metadata": {
        "id": "sSU3xnsfpOX3"
      }
    },
    {
      "cell_type": "code",
      "source": [
        "import os\n",
        "print(os.listdir(\"./results/checkpoint-800\"))\n"
      ],
      "metadata": {
        "colab": {
          "base_uri": "https://localhost:8080/"
        },
        "id": "Kr1rCNcJqZsD",
        "outputId": "55f9702c-cc3e-4b1c-d914-e17e8e6aaf79"
      },
      "execution_count": null,
      "outputs": [
        {
          "output_type": "stream",
          "name": "stdout",
          "text": [
            "['config.json', 'optimizer.pt', 'rng_state.pth', 'model.safetensors', 'scheduler.pt', 'trainer_state.json', 'training_args.bin']\n"
          ]
        }
      ]
    },
    {
      "cell_type": "code",
      "source": [
        "import torch\n",
        "import pandas as pd\n",
        "import numpy as np\n",
        "from transformers import DistilBertTokenizer, DistilBertForSequenceClassification\n",
        "from safetensors.torch import load_file\n",
        "\n",
        "# Load test dataset\n",
        "test_df = pd.read_json(\"/content/drive/MyDrive/Assignment 1/z639_assignment1_test.json\", lines=True)\n",
        "\n",
        "# Load tokenizer from pre-trained DistilBERT model (NOT from checkpoint directory)\n",
        "tokenizer = DistilBertTokenizer.from_pretrained(\"distilbert-base-uncased\")\n",
        "\n",
        "# Load fine-tuned model from checkpoint\n",
        "model_path = \"./results/checkpoint-800\"\n",
        "model = DistilBertForSequenceClassification.from_pretrained(model_path)\n",
        "model.load_state_dict(load_file(model_path + \"/model.safetensors\"))\n",
        "\n",
        "# Move model to available device\n",
        "device = torch.device(\"cuda\" if torch.cuda.is_available() else \"cpu\")\n",
        "model.to(device)\n",
        "\n",
        "# Function to predict toxicity\n",
        "def predict_toxicity(texts):\n",
        "    model.eval()  # Set model to evaluation mode\n",
        "    predictions = []\n",
        "\n",
        "    for text in texts:\n",
        "        encoding = tokenizer(\n",
        "            text, padding=\"max_length\", truncation=True, max_length=128, return_tensors=\"pt\"\n",
        "        ).to(device)\n",
        "\n",
        "        with torch.no_grad():\n",
        "            outputs = model(**encoding)\n",
        "            logits = outputs.logits\n",
        "\n",
        "        pred_label = torch.argmax(logits, dim=-1).cpu().numpy()[0]\n",
        "        predictions.append(pred_label)\n",
        "\n",
        "    return predictions\n",
        "\n",
        "# Predict toxicity for test dataset\n",
        "test_df[\"prediction\"] = predict_toxicity(test_df[\"text\"])\n",
        "\n",
        "# Convert predictions to boolean format (true = toxic, false = non-toxic)\n",
        "test_df[\"prediction\"] = test_df[\"prediction\"].map({0: False, 1: True})\n",
        "\n",
        "# Save predictions in required format\n",
        "submission_df = test_df[[\"platform_id\", \"prediction\"]]\n",
        "submission_df.to_csv(\"distilbert_predictions.csv\", index=False)\n",
        "\n",
        "print(\"✅ Predictions saved to distilbert_predictions.csv\")\n"
      ],
      "metadata": {
        "colab": {
          "base_uri": "https://localhost:8080/"
        },
        "id": "w9qFA1PGpOJw",
        "outputId": "e4bf0da0-3c21-49f5-ec0a-0195158d42d6"
      },
      "execution_count": null,
      "outputs": [
        {
          "output_type": "stream",
          "name": "stdout",
          "text": [
            "✅ Predictions saved to distilbert_predictions.csv\n"
          ]
        }
      ]
    }
  ]
}
